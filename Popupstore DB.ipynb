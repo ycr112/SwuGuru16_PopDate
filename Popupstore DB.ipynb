{
 "cells": [
  {
   "cell_type": "code",
   "execution_count": 8,
   "id": "9394c66e",
   "metadata": {},
   "outputs": [],
   "source": [
    "//데이터베이스에 팝업스토어 정보 연동하는 파이썬 코드. DB Browser SQLite 으로 PopDate라는 DB를 생성. 테이블명: PopupStore\n",
    "import sqlite3\n",
    "import os\n",
    "\n",
    "# 데이터베이스 파일 경로\n",
    "db_path = r'C:\\Users\\82105\\PopDate.db'\n",
    "\n",
    "# SQLite 데이터베이스 연결\n",
    "conn = sqlite3.connect(db_path)  # isolation_level=None은 생략\n",
    "c = conn.cursor()\n",
    "\n",
    "# 팝업스토어 정보\n",
    "popup_stores = [\n",
    "    {\n",
    "        'name': 'Newmixcoffee',\n",
    "        'location': 'The hyundai seoul B1, Yeongdeungpo-gu, Seoul, Korea',\n",
    "        'period': '2024-07-16 to 2024-08-04',\n",
    "        'link': 'https://www.instagram.com/newmixcoffee.kr/',\n",
    "        'image_url': r'C:\\ic image\\popup1-newmixcoffee.jpg'\n",
    "    },\n",
    "    {\n",
    "        'name': 'Glowny',\n",
    "        'location': '88, Yeonmujang-gil, Seongdong-gu, Seoul, Korea',\n",
    "        'period': '2024-07-26 to 2024-07-28',\n",
    "        'link': 'https://www.instagram.com/beglowny/',\n",
    "        'image_url': r'C:\\ic image\\popup2-glowny.jpg'\n",
    "    },\n",
    "    {\n",
    "        'name': 'Hello Kitty 50th',\n",
    "        'location': '149, dongbulo, dong-gu, daegu, Korea',\n",
    "        'period': '2024-08-02 to 2024-08-11',\n",
    "        'link': 'https://www.instagram.com/hellokitty_korea/',\n",
    "        'image_url': r'C:\\ic image\\popup3-hellokitty.jpg'\n",
    "    },\n",
    "    # 필요한 만큼 팝업스토어 정보를 추가\n",
    "]\n",
    "\n",
    "# 데이터베이스에 저장\n",
    "for store in popup_stores:\n",
    "    image_url = store['image_url']\n",
    "    \n",
    "    # 이미지 파일이 실제로 존재하는지 확인\n",
    "    if os.path.exists(image_url):\n",
    "        c.execute('''\n",
    "            INSERT INTO PopupStore (name, location, period, link, image_url)\n",
    "            VALUES (?, ?, ?, ?, ?)\n",
    "        ''', (store['name'], store['location'], store['period'], store['link'], image_url))\n",
    "    else:\n",
    "        print(f\"Image file does not exist: {image_url}\")\n",
    "\n",
    "# 변경 사항 커밋 및 연결 종료\n",
    "conn.commit()\n",
    "conn.close()\n"
   ]
  },
  {
   "cell_type": "code",
   "execution_count": 7,
   "id": "c45dd2c2",
   "metadata": {},
   "outputs": [
    {
     "name": "stdout",
     "output_type": "stream",
     "text": [
      "Database connection successful!\n"
     ]
    }
   ],
   "source": [
    "import sqlite3\n",
    "\n",
    "db_path = r'C:\\Users\\82105\\PopDate.db'\n",
    "\n",
    "try:\n",
    "    conn = sqlite3.connect(db_path)\n",
    "    print(\"Database connection successful!\")\n",
    "    conn.close()\n",
    "except sqlite3.Error as e:\n",
    "    print(f\"An error occurred: {e}\")\n"
   ]
  },
  {
   "cell_type": "code",
   "execution_count": null,
   "id": "e5d785e8",
   "metadata": {},
   "outputs": [],
   "source": []
  }
 ],
 "metadata": {
  "kernelspec": {
   "display_name": "Python 3 (ipykernel)",
   "language": "python",
   "name": "python3"
  },
  "language_info": {
   "codemirror_mode": {
    "name": "ipython",
    "version": 3
   },
   "file_extension": ".py",
   "mimetype": "text/x-python",
   "name": "python",
   "nbconvert_exporter": "python",
   "pygments_lexer": "ipython3",
   "version": "3.11.5"
  }
 },
 "nbformat": 4,
 "nbformat_minor": 5
}
